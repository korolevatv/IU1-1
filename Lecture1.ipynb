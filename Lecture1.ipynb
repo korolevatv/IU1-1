{
 "cells": [
  {
   "cell_type": "code",
   "execution_count": 1,
   "id": "c0eb41a6",
   "metadata": {},
   "outputs": [
    {
     "name": "stdout",
     "output_type": "stream",
     "text": [
      "5\n",
      "2\n",
      "77\n",
      "4 \n",
      "9\n",
      "55\n",
      "Max number: 77\n"
     ]
    }
   ],
   "source": [
    "a = []\n",
    "n = int(input())\n",
    "for i in range(0, n):\n",
    "    a.append(int(input()))\n",
    "max_a = 0\n",
    "for i in range(0, n):\n",
    "    max_a = max(max_a, a[i])\n",
    "print(\"Max number:\", max_a)\n"
   ]
  },
  {
   "cell_type": "code",
   "execution_count": null,
   "id": "4f985958",
   "metadata": {},
   "outputs": [],
   "source": []
  }
 ],
 "metadata": {
  "kernelspec": {
   "display_name": "Python 3 (ipykernel)",
   "language": "python",
   "name": "python3"
  },
  "language_info": {
   "codemirror_mode": {
    "name": "ipython",
    "version": 3
   },
   "file_extension": ".py",
   "mimetype": "text/x-python",
   "name": "python",
   "nbconvert_exporter": "python",
   "pygments_lexer": "ipython3",
   "version": "3.11.0"
  }
 },
 "nbformat": 4,
 "nbformat_minor": 5
}
