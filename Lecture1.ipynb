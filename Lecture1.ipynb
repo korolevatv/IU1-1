{
 "cells": [
  {
   "cell_type": "code",
   "execution_count": 1,
   "id": "c0eb41a6",
   "metadata": {},
   "outputs": [
    {
     "name": "stdout",
     "output_type": "stream",
     "text": [
      "7\n",
      "9\n",
      "6\n",
      "Max number: 9\n"
     ]
    }
   ],
   "source": [
    "a = int(input())\n",
    "b = int(input())\n",
    "c = int(input())\n",
    "\n",
    "if a >= b:\n",
    "    if a >= c:\n",
    "        print(\"Max number:\", a)\n",
    "    else:\n",
    "        print(\"Max number:\", c)\n",
    "else:\n",
    "    if b >= c:\n",
    "        print(\"Max number:\", b)\n",
    "    else:\n",
    "        print(\"Max number:\", c)"
   ]
  },
  {
   "cell_type": "code",
   "execution_count": null,
   "id": "4f985958",
   "metadata": {},
   "outputs": [],
   "source": []
  }
 ],
 "metadata": {
  "kernelspec": {
   "display_name": "Python 3 (ipykernel)",
   "language": "python",
   "name": "python3"
  },
  "language_info": {
   "codemirror_mode": {
    "name": "ipython",
    "version": 3
   },
   "file_extension": ".py",
   "mimetype": "text/x-python",
   "name": "python",
   "nbconvert_exporter": "python",
   "pygments_lexer": "ipython3",
   "version": "3.11.0"
  }
 },
 "nbformat": 4,
 "nbformat_minor": 5
}
